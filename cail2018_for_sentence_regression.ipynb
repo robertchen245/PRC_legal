{
 "cells": [
  {
   "cell_type": "markdown",
   "metadata": {},
   "source": [
    "# A Script for Training for Sentence Prediction(刑期预测)"
   ]
  },
  {
   "cell_type": "markdown",
   "metadata": {},
   "source": [
    "## Import required lib and tools"
   ]
  },
  {
   "cell_type": "code",
   "execution_count": null,
   "metadata": {},
   "outputs": [],
   "source": [
    "from transformers import AutoTokenizer, AutoModelForSequenceClassification,BertForSequenceClassification\n",
    "from transformers import pipeline\n",
    "import torch.nn as nn\n",
    "from matplotlib import pyplot as plt\n",
    "from dataset_extractor import *\n",
    "import torch\n",
    "from torch.utils.data import TensorDataset, DataLoader, RandomSampler\n",
    "from transformers import get_scheduler\n",
    "from torch.optim import AdamW"
   ]
  },
  {
   "cell_type": "code",
   "execution_count": null,
   "metadata": {},
   "outputs": [],
   "source": [
    "device = torch.device(\"cuda\")\n",
    "batch_size=60"
   ]
  },
  {
   "cell_type": "markdown",
   "metadata": {},
   "source": [
    "We use pretrained item prediction model to finetune. \n",
    "We freeze the first layer and replace the output classifer"
   ]
  },
  {
   "cell_type": "code",
   "execution_count": null,
   "metadata": {},
   "outputs": [],
   "source": [
    "tokenizer = AutoTokenizer.from_pretrained(\n",
    "    \"bert-base-chinese\"\n",
    ")\n",
    "model_reg = AutoModelForSequenceClassification.from_pretrained(\n",
    "    \"ert-base-legal-chinese-epoch-8\"\n",
    ")\n",
    "model_reg.classifier = nn.Linear(model_reg.config.hidden_size, 1)\n",
    "criterion = nn.MSELoss()\n",
    "for name, param in model_reg.named_parameters():\n",
    "    param.requires_grad = False\n",
    "    if \"bert.encoder.layer.6.attention.self.query.weight\" in name:\n",
    "        break\n",
    "for name, param in model_reg.named_parameters():\n",
    "    if param.requires_grad == True:\n",
    "        print(name)"
   ]
  },
  {
   "cell_type": "code",
   "execution_count": null,
   "metadata": {},
   "outputs": [],
   "source": [
    "train_pair = extract(\"PRC_legal_dataset/data_train.json\")\n",
    "print(train_pair[\"imprisonment\"][0])\n",
    "train_batch = tokenizer(\n",
    "    train_pair[\"content\"],\n",
    "    max_length=512,\n",
    "    truncation=True,\n",
    "    padding=\"max_length\",\n",
    "    return_tensors=\"pt\",\n",
    ")\n",
    "train = TensorDataset(\n",
    "    train_batch[\"input_ids\"],\n",
    "    train_batch[\"attention_mask\"],\n",
    "    torch.tensor(train_pair[\"imprisonment\"], dtype=torch.float32),\n",
    ")\n",
    "train_sampler = RandomSampler(train)\n",
    "train_dataloader = DataLoader(train, sampler=train_sampler, batch_size=batch_size)\n",
    "optimizer = AdamW(model_reg.parameters(), lr=2e-5)\n",
    "num_epochs = 50\n",
    "num_training_steps = num_epochs * len(train_dataloader)\n",
    "lr_scheduler = get_scheduler(\n",
    "    name=\"linear\",\n",
    "    optimizer=optimizer,\n",
    "    num_warmup_steps=0,\n",
    "    num_training_steps=num_training_steps,\n",
    ")"
   ]
  },
  {
   "cell_type": "code",
   "execution_count": null,
   "metadata": {},
   "outputs": [],
   "source": [
    "def train(model):\n",
    "    model.to(device)\n",
    "    for epoch in range(num_epochs):\n",
    "        model.train()  # 切换成训练模式\n",
    "        total_loss = 0\n",
    "        for step, batch in enumerate(train_dataloader):\n",
    "            if step % 10 == 0 and not step == 0:\n",
    "                print(\"step: \", step, \"  loss:\", total_loss / (step * batch_size))\n",
    "            b_input_ids = batch[0].to(device)\n",
    "            b_input_mask = batch[1].to(device)\n",
    "            b_labels = batch[2].to(device)\n",
    "            model.zero_grad()\n",
    "            outputs = model(\n",
    "                b_input_ids, token_type_ids=None, attention_mask=b_input_mask\n",
    "            )\n",
    "            loss = criterion(\n",
    "                outputs.logits.reshape(-1), b_labels\n",
    "            )  # include cross-entropy loss or MSE loss when label=1\n",
    "            total_loss += loss.item()\n",
    "            loss.backward()\n",
    "            torch.nn.utils.clip_grad_norm_(model.parameters(), 1.0)  # 防止梯度爆炸\n",
    "            optimizer.step()\n",
    "            lr_scheduler.step()\n",
    "        avg_train_loss = total_loss / len(train_dataloader)\n",
    "        print(\"avg_loss:\", avg_train_loss)\n",
    "        model.save_pretrained(\n",
    "            f\"bert-base-legal-chinese-regression-frozen_first_6layer-epoch-{epoch+1}\"\n",
    "        )"
   ]
  },
  {
   "cell_type": "code",
   "execution_count": null,
   "metadata": {},
   "outputs": [],
   "source": [
    "train(model_reg)"
   ]
  }
 ],
 "metadata": {
  "language_info": {
   "name": "python"
  }
 },
 "nbformat": 4,
 "nbformat_minor": 2
}
